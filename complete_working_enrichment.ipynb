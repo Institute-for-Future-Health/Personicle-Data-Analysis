{
 "cells": [
  {
   "cell_type": "markdown",
   "metadata": {},
   "source": [
    "# Working event enrichment: calendar movement segmentation and categorization\n",
    "This script requires \"Similar cache\", which is a loadable dict of words related to categories to determine the categorization of events.\n",
    "Also requires personicle json from firebase."
   ]
  },
  {
   "cell_type": "code",
   "execution_count": 1,
   "metadata": {
    "collapsed": true
   },
   "outputs": [],
   "source": [
    "from spellchecker import SpellChecker\n",
    "import spacy\n",
    "import json\n",
    "import matplotlib.pyplot as plt\n",
    "import numpy as np\n",
    "import jsonfix\n",
    "from pprint import pprint\n",
    "import csv\n",
    "import scipy.signal\n",
    "import datetime\n",
    "nlp = spacy.load('en_core_web_lg')"
   ]
  },
  {
   "cell_type": "code",
   "execution_count": 2,
   "metadata": {
    "collapsed": true
   },
   "outputs": [],
   "source": [
    "# load data with custom json fixer for fixing json downloaded from firebase (dicts sometimes arrays)\n",
    "data = jsonfix.fix_json(\"D:\\\\Research\\\\jordan.json\")\n",
    "lifeLog = data['lifeLog']"
   ]
  },
  {
   "cell_type": "code",
   "execution_count": 3,
   "metadata": {
    "collapsed": true
   },
   "outputs": [],
   "source": [
    "# \"cal\" is loaded in with every calendar event, as an array\n",
    "# [name, location, time, day, timewindow (rearranged for consistency)]\n",
    "cal = []\n",
    "for k in lifeLog:\n",
    "    for r in lifeLog[k][\"mobile\"].values():\n",
    "        if r == None:\n",
    "            continue\n",
    "        if \"calendar\" in r:\n",
    "            for j in r[\"calendar\"][\"labeledCalendar\"]:\n",
    "                tw = r['time']['timeWindow'] \n",
    "                tw = tw[4:8] + \"_\"+ tw[0:4] + tw[8:]\n",
    "                cal.append([j[\"event\"], j[\"location\"], j[\"startTime\"], k, tw ])\n",
    "    "
   ]
  },
  {
   "cell_type": "code",
   "execution_count": 4,
   "metadata": {
    "collapsed": true
   },
   "outputs": [],
   "source": [
    "cal_filtered = []\n",
    "#filter same events from consecutive time windows\n",
    "cal = sorted(cal,key=lambda x:x[0])\n",
    "i = 0\n",
    "while i < len(cal):\n",
    "    cal_filtered.append(cal[i])\n",
    "    #this becomes the length of the event\n",
    "    cal_filtered[-1].append(0)\n",
    "    prev = cal[i][:3]\n",
    "    while cal[i][:3] == prev:\n",
    "        cal_filtered[-1][-1] += 5\n",
    "        i+=1\n",
    "        if i >= len(cal):\n",
    "            break\n",
    "        \n",
    "cal = cal_filtered"
   ]
  },
  {
   "cell_type": "code",
   "execution_count": null,
   "metadata": {
    "collapsed": true
   },
   "outputs": [],
   "source": []
  },
  {
   "cell_type": "code",
   "execution_count": 5,
   "metadata": {
    "collapsed": true,
    "scrolled": false
   },
   "outputs": [],
   "source": [
    "# get the movement windows into an array\n",
    "classified_minute_windows = []\n",
    "with open('symbolicResultWorking.csv') as f:\n",
    "    csvFile = csv.reader(f,delimiter=',')\n",
    "    prev = ''\n",
    "    total = 0\n",
    "    for line in csvFile:\n",
    "        if int(line[0][-3:]) != prev:\n",
    "            classified_minute_windows.append({'moving':[line[5]]})\n",
    "            classified_minute_windows[-1]['date'] = datetime.datetime(int(line[0][5:9]),int(line[0][0:2]),int(line[0][2:4]),\n",
    "                                                                      hour=int(line[1][:-3]),\n",
    "                                                                      minute=int(line[1][-2:])\n",
    "                                                                     )\n",
    "            classified_minute_windows[-1]['segment'] = int(line[0][10:13]) + int(total/5)\n",
    "            classified_minute_windows[-1]['origSegment'] = int(line[0][10:13])\n",
    "            classified_minute_windows[-1]['segNum'] = int(line[0][-3:])\n",
    "            prev = int(line[0][-3:])\n",
    "            if len(classified_minute_windows) > 1 and \\\n",
    "                    classified_minute_windows[-1]['origSegment'] != classified_minute_windows[-2]['origSegment']:\n",
    "                total = 0\n",
    "    \n",
    "        else:\n",
    "            classified_minute_windows[-1]['moving'].append(line[5])\n",
    "        total += 1\n",
    "\n",
    "\n",
    "    "
   ]
  },
  {
   "cell_type": "code",
   "execution_count": 6,
   "metadata": {},
   "outputs": [],
   "source": [
    "classified_minute_windows = sorted(classified_minute_windows, key=lambda x: (x['date'], -len(x['moving'])))"
   ]
  },
  {
   "cell_type": "code",
   "execution_count": 7,
   "metadata": {
    "collapsed": true
   },
   "outputs": [],
   "source": [
    "# filter all day events, only allow if  < 1000 mins\n",
    "cal = [i for i in cal if i[-1] < 1000]"
   ]
  },
  {
   "cell_type": "code",
   "execution_count": 8,
   "metadata": {
    "collapsed": true
   },
   "outputs": [],
   "source": [
    "# correlate the calendar events with their movement segments\n",
    "segments = []\n",
    "for event in cal:\n",
    "    name,location,start_time,date,window_str,length = event\n",
    "    event_date = datetime.datetime(int(window_str[5:9]),int(window_str[0:2]),int(window_str[2:4]), \n",
    "                                   hour=int(int(window_str[-3:])*5/60),\n",
    "                                   minute=int(window_str[-3:])*5%60)\n",
    "    index = 0\n",
    "    #get index to the first movement segment after an event starts\n",
    "    while event_date > classified_minute_windows[index]['date']:\n",
    "        index += 1\n",
    "        if index >= len(classified_minute_windows):\n",
    "            break\n",
    "    if index >= len(classified_minute_windows):\n",
    "        continue\n",
    "    index -= 1\n",
    "    \n",
    "#     print(event_date,classified_minute_windows[index]['date'],event_date - classified_minute_windows[index]['date'] )\n",
    "    if event_date - classified_minute_windows[index]['date'] > \\\n",
    "            datetime.timedelta(minutes=len(classified_minute_windows[index]['moving'])) or \\\n",
    "         event_date - classified_minute_windows[index]['date'] < datetime.timedelta(0):\n",
    "#         print('Not in working segment')\n",
    "        continue\n",
    "    # get the longest movement segment\n",
    "    max_length = index\n",
    "    passed_duration = 0\n",
    "    passed_duration_at_max = 0\n",
    "    while passed_duration < length*(3/4):\n",
    "        if len(classified_minute_windows[index]['moving']) > len(classified_minute_windows[max_length]['moving']):\n",
    "            max_length = index\n",
    "            passed_duration_at_max = passed_duration\n",
    "        if index >= len(classified_minute_windows):\n",
    "            break\n",
    "        passed_duration += len(classified_minute_windows[index]['moving'])\n",
    "        index += 1\n",
    "\n",
    "    if max_length == len(classified_minute_windows):\n",
    "        max_length -= 1\n",
    "        \n",
    "\n",
    "    segments.append({\n",
    "        'eventName':name,\n",
    "        'location':location,\n",
    "        'startTime':start_time,\n",
    "        'startDate':date,\n",
    "        'eventDateTime': event_date,\n",
    "        'windowString':window_str,\n",
    "        'duration':length,\n",
    "        'movementSegmentStartWindow': classified_minute_windows[max_length]['segment'],\n",
    "        'movementSegmentStartDate': classified_minute_windows[max_length]['date'],\n",
    "        'movementSegmentLength': len(classified_minute_windows[max_length]['moving']),\n",
    "        'movementSegmentValues': classified_minute_windows[max_length]['moving'],\n",
    "        'movementSegmentNum': classified_minute_windows[max_length]['segNum'],\n",
    "        'movementSegmentCSVWindow': classified_minute_windows[max_length]['origSegment'],\n",
    "        'movementSegmentStartDelay': passed_duration_at_max\n",
    "        \n",
    "    })\n",
    "    "
   ]
  },
  {
   "cell_type": "markdown",
   "metadata": {},
   "source": [
    "[0: Title,<br>\n",
    " 1: location, <br>\n",
    " 2: start time(unix), <br>\n",
    " 3: date, <br>\n",
    " 4: event time window string, <br>\n",
    " 5: prev window string, <br>\n",
    " 6: segment window string,<br>\n",
    " 7: next window string]"
   ]
  },
  {
   "cell_type": "code",
   "execution_count": 9,
   "metadata": {},
   "outputs": [
    {
     "name": "stdout",
     "output_type": "stream",
     "text": [
      "21\n"
     ]
    }
   ],
   "source": [
    "print(len(segments))"
   ]
  },
  {
   "cell_type": "code",
   "execution_count": 10,
   "metadata": {
    "collapsed": true
   },
   "outputs": [],
   "source": [
    "# Correlate calendar names with event types\n",
    "testcache = {}\n",
    "with open(\"similar_cache\") as f:\n",
    "    testcache = eval(f.read())\n",
    "\n",
    "#calnames = [\"I&C SCI 6D  DIS B4 (36034)\"]\n",
    "def categorize(calname):\n",
    "    spell = SpellChecker()\n",
    "    doc = nlp(calname)\n",
    "    if calname.lower().endswith(\"birthday\"):\n",
    "        return None\n",
    "    possibilities = []\n",
    "    keywords = set()\n",
    "    likelihood = {j:0 for j in testcache.keys()}\n",
    "    for token in doc:\n",
    "        #print(token.text, token.lemma_, token.pos_, token.tag_, token.dep_)\n",
    "        if token.pos_ != 'PROPN' or spell.correction(token.text) == token.text:\n",
    "            to_check = token.lemma_  \n",
    "        else:\n",
    "            to_check = spell.correction(token.text)\n",
    "        if len(to_check) > 2 :\n",
    "            for j in testcache.keys():\n",
    "                for k in testcache[j][\"similar\"]:\n",
    "                    if k.startswith(to_check):\n",
    "                        possibilities.append((j,k))\n",
    "                        keywords.add(to_check)\n",
    "    if all([(token.pos_ in (\"PROPN\", \"PUNCT\", \"SYM\", \"NUM\"))  for token in doc]):\n",
    "        if \"meeting\" in likelihood:\n",
    "            likelihood[\"meeting\"] += 0.4\n",
    "        else:\n",
    "            likelihood[\"meeting\"] = 0.2\n",
    "    if len(possibilities) == 0 and len(likelihood) == 0:\n",
    "        print(calname + \": none found\" )\n",
    "        return None\n",
    "\n",
    "    for token in possibilities:\n",
    "        max1 = 0\n",
    "        max2 = 0\n",
    "        nlp_token1 = nlp(token[0])[0]\n",
    "        nlp_token2 = nlp(token[1])[0]\n",
    "        for j in range(len(doc)):\n",
    "            sim = nlp_token1.similarity(doc[j])\n",
    "            if sim > max1:\n",
    "                max1 = sim\n",
    "            sim = nlp_token2.similarity(doc[j])\n",
    "            if sim > max2:\n",
    "                max1 = sim\n",
    "        val = (max1+max2) * nlp_token1.similarity(nlp_token2)\n",
    "        if likelihood[token[0]] < val:\n",
    "            likelihood[token[0]] = val\n",
    "    for j in keywords:\n",
    "        for k in testcache.keys():\n",
    "            if k.startswith(j):\n",
    "                likelihood[k] += 0.4\n",
    "\n",
    "#     weights1 = [max(nlp(token[0])[0].similarity(doc[j]) for j in range(len(doc))) for token in possibilities]\n",
    "#     weights2 = [max(nlp(token[1])[0].similarity(doc[j]) for j in range(len(doc))) for token in possibilities]\n",
    "#     print(list(zip(possibilities,weights1,weights2)))\n",
    "#     print(i + \": \" + possibilities[weights1.index(max(weights1))][0])\n",
    "    top_result = sorted(likelihood,key=lambda x:-likelihood[x])[0]\n",
    "    return top_result + (\"\" if likelihood[top_result] > 0.3 else \" (Unconfident)\")\n"
   ]
  },
  {
   "cell_type": "code",
   "execution_count": 11,
   "metadata": {
    "collapsed": true
   },
   "outputs": [],
   "source": [
    "writer = csv.writer(open(\"moving_segmentation.csv\", 'w', newline=''))\n",
    "for row in segments:\n",
    "    row['category'] = categorize(row['eventName'])\n",
    "    writer.writerow([row['windowString'], \n",
    "                     row['movementSegmentStartDate'].strftime(\"%H:%M\"),\n",
    "                     row['duration'],\n",
    "                     row['eventName'],\n",
    "                     row['category']])"
   ]
  },
  {
   "cell_type": "code",
   "execution_count": 12,
   "metadata": {},
   "outputs": [],
   "source": [
    "sorted_segments = sorted(segments, key=lambda x: x['movementSegmentStartDate'])\n",
    "with open('symbolicResultWorking.csv') as inputCSV:\n",
    "    csvFile = csv.reader(inputCSV, delimiter=',')\n",
    "    with open('workingEnhancement.csv', 'w', newline='') as output:\n",
    "        output = csv.writer(output)\n",
    "        for row in csvFile:\n",
    "            row_date = datetime.datetime(int(row[0][5:9]),int(row[0][0:2]),int(row[0][2:4]),\n",
    "                                                                      hour=int(row[1][:-3]),\n",
    "                                                                      minute=int(row[1][-2:])\n",
    "                                        )\n",
    "            if not len(sorted_segments):\n",
    "                output.writerow(row)\n",
    "            elif sorted_segments[0]['movementSegmentStartDate'] <= row_date and row_date <= sorted_segments[0]['movementSegmentStartDate'] + datetime.timedelta(minutes=sorted_segments[0]['movementSegmentLength']): \n",
    "                output.writerow(row[:-1] + [sorted_segments[0]['category']])\n",
    "            elif row_date > sorted_segments[0]['movementSegmentStartDate'] + datetime.timedelta(minutes=sorted_segments[0]['movementSegmentLength']): \n",
    "                sorted_segments = sorted_segments[1:]\n",
    "                output.writerow(row)\n",
    "            else:\n",
    "                output.writerow(row)\n"
   ]
  },
  {
   "cell_type": "code",
   "execution_count": 13,
   "metadata": {},
   "outputs": [
    {
     "data": {
      "image/png": "[encoded data removed]",
      "text/plain": [
       "<matplotlib.figure.Figure at 0x1f8f2f05f98>"
      ]
     },
     "metadata": {},
     "output_type": "display_data"
    }
   ],
   "source": [
    "# Delay graph, red is how much the movement segmentation missed\n",
    "values = [i['movementSegmentStartDelay'] for i in segments]\n",
    "values2 =[i['duration'] - i['movementSegmentStartDelay'] for i in segments]\n",
    "indices = np.arange(len(values))\n",
    "p1 = plt.bar(indices, values, color='r')\n",
    "p2 = plt.bar(indices, values2 , bottom=values, color='b')\n",
    "plt.legend((p1[0], p2[0]), (\"Start time\", \"Event time left\"), fontsize=12, ncol=4, framealpha=0, fancybox=True)\n",
    "plt.show()"
   ]
  },
  {
   "cell_type": "code",
   "execution_count": 14,
   "metadata": {},
   "outputs": [
    {
     "data": {
      "image/png": "[encoded data removed]",
      "text/plain": [
       "<matplotlib.figure.Figure at 0x1f8f2cd6d68>"
      ]
     },
     "metadata": {},
     "output_type": "display_data"
    }
   ],
   "source": [
    "# Duration comparison, the more overlap between the blue and red the better\n",
    "plt.figure(figsize=(20,10))\n",
    "eventDuration = [i['duration'] for i in segments]\n",
    "segStart = [i['movementSegmentStartDelay'] for i in segments]\n",
    "segDuration = [i['movementSegmentLength'] for i in segments]\n",
    "\n",
    "indices = np.arange(len(values)*3,step=3)\n",
    "p1 = plt.bar(indices, eventDuration, color='r')\n",
    "p2 = plt.bar(indices+1, segStart, color='grey')\n",
    "p3 = plt.bar(indices+1, segDuration , bottom=segStart, color='b')\n",
    "\n",
    "plt.legend((p1[0], p2[0],p3[0]), (\"Total Duration\", \"Start Delay\", \"Segment Duration\"), fontsize=12, ncol=4, framealpha=0, fancybox=True)\n",
    "plt.show()"
   ]
  },
  {
   "cell_type": "code",
   "execution_count": null,
   "metadata": {
    "collapsed": true
   },
   "outputs": [],
   "source": []
  }
 ],
 "metadata": {
  "kernelspec": {
   "display_name": "Python 3",
   "language": "python",
   "name": "python3"
  },
  "language_info": {
   "codemirror_mode": {
    "name": "ipython",
    "version": 3
   },
   "file_extension": ".py",
   "mimetype": "text/x-python",
   "name": "python",
   "nbconvert_exporter": "python",
   "pygments_lexer": "ipython3",
   "version": "3.6.3"
  }
 },
 "nbformat": 4,
 "nbformat_minor": 2
}
