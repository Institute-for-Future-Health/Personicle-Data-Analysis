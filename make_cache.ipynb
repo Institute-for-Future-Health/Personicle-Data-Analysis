{
 "cells": [
  {
   "cell_type": "code",
   "execution_count": 1,
   "metadata": {
    "collapsed": true
   },
   "outputs": [],
   "source": [
    "import spacy"
   ]
  },
  {
   "cell_type": "code",
   "execution_count": 2,
   "metadata": {
    "collapsed": true
   },
   "outputs": [],
   "source": [
    "nlp = spacy.load('en_core_web_lg')\n"
   ]
  },
  {
   "cell_type": "code",
   "execution_count": 3,
   "metadata": {
    "collapsed": true
   },
   "outputs": [],
   "source": [
    "# categories = [\"working\",\n",
    "#               \"commuting\",\n",
    "#               \"exercising\",\n",
    "#               \"religious\",\n",
    "#               \"shopping\",\n",
    "#               \"eating\",\n",
    "#               \"toilet\",\n",
    "#               \"studying\",\n",
    "#               \"home\"]\n",
    "categories = [\"meeting\",\n",
    "              \"seminar\",\n",
    "              \"working\",\n",
    "              \"conference\",\n",
    "              \"discussion\",\n",
    "              \"studying\",\n",
    "              \"lecture\", \n",
    "              \"class\"]"
   ]
  },
  {
   "cell_type": "code",
   "execution_count": 4,
   "metadata": {
    "collapsed": true
   },
   "outputs": [],
   "source": [
    "#accepts a string or token, returns a list of the top ten closest tokens\n",
    "def most_similar(word, topn=10):\n",
    "    if type(word) != spacy.tokens.token.Token:\n",
    "        word = nlp(word)[0]\n",
    "    queries = [w for w in word.vocab if w.is_lower == word.is_lower and w.prob >= -15]\n",
    "    by_similarity = sorted(queries, key=lambda w: word.similarity(w), reverse=True)\n",
    "    return by_similarity[:topn]"
   ]
  },
  {
   "cell_type": "code",
   "execution_count": 5,
   "metadata": {
    "collapsed": true
   },
   "outputs": [],
   "source": [
    "cache = {}\n",
    "for i in categories:\n",
    "    wl = most_similar(i,topn=30)\n",
    "    # \"similar\" is a set of words which are close to words close to a category:\n",
    "    # EX  if \"sport\" is close to \"exercise\" and \"soccer\" is close to sport, then we would have both \"sport\" and \"soccer\"\n",
    "    cache[i] = {\"similar\":set(list([item for sublist in [most_similar(k.text,topn=20) for k in (j for j in wl)] for item in sublist] + \n",
    "                                   [j for j in wl])), \"vec\":nlp(i)[0].vector}"
   ]
  },
  {
   "cell_type": "code",
   "execution_count": 6,
   "metadata": {
    "collapsed": true
   },
   "outputs": [],
   "source": [
    "for j in cache.values():\n",
    "    j[\"similar\"] = set(i.text for i in j[\"similar\"])\n",
    "    "
   ]
  },
  {
   "cell_type": "code",
   "execution_count": 7,
   "metadata": {
    "collapsed": true
   },
   "outputs": [],
   "source": [
    "with open(\"similar_cache\", 'w+') as f:\n",
    "    f.write(repr(cache).replace(\"array\",\"np.array\").replace(\"float32\", \"np.float32\"))"
   ]
  },
  {
   "cell_type": "code",
   "execution_count": null,
   "metadata": {
    "collapsed": true
   },
   "outputs": [],
   "source": []
  }
 ],
 "metadata": {
  "kernelspec": {
   "display_name": "Python 3",
   "language": "python",
   "name": "python3"
  },
  "language_info": {
   "codemirror_mode": {
    "name": "ipython",
    "version": 3
   },
   "file_extension": ".py",
   "mimetype": "text/x-python",
   "name": "python",
   "nbconvert_exporter": "python",
   "pygments_lexer": "ipython3",
   "version": "3.6.3"
  }
 },
 "nbformat": 4,
 "nbformat_minor": 2
}
